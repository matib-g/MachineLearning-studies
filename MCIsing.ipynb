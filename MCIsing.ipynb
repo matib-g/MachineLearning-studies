{
 "cells": [
  {
   "cell_type": "code",
   "execution_count": 2,
   "metadata": {},
   "outputs": [],
   "source": [
    "import numpy as np\n",
    "import random\n",
    "import matplotlib.pyplot as plt"
   ]
  },
  {
   "cell_type": "code",
   "execution_count": 24,
   "metadata": {},
   "outputs": [],
   "source": [
    "def generate_data(n):\n",
    "    return np.array([np.random.choice([-1,1]) for _ in range(n*n)]).reshape(n,n)"
   ]
  },
  {
   "cell_type": "code",
   "execution_count": 25,
   "metadata": {},
   "outputs": [],
   "source": [
    "def prob(energy, T):\n",
    "    return np.exp(-energy/T)"
   ]
  },
  {
   "cell_type": "code",
   "execution_count": 26,
   "metadata": {},
   "outputs": [],
   "source": [
    "def step(arr, n, T):\n",
    "    energy = 0\n",
    "    J = 1\n",
    "    for i in range(n):\n",
    "        i1 = (i-1)%n\n",
    "        i2 = (i+1)%n\n",
    "        for j in range(n):\n",
    "            j1 = (j-1)%n\n",
    "            j2 = (j+1)%n\n",
    "            energy += J*arr[i][j]*(arr[i1][j]+arr[i2][j]+arr[i][j1]+arr[i][j2])\n",
    "            dE = 2*J*arr[i][j]*(arr[i1][j]+arr[i2][j]+arr[i][j1]+arr[i][j2])\n",
    "            if(dE<=0):\n",
    "                arr[i][j]*=-1\n",
    "            elif(dE>0 and prob(dE, T) > random.random()):\n",
    "                arr[i][j]*=-1\n",
    "    return energy/2, arr"
   ]
  },
  {
   "cell_type": "code",
   "execution_count": 27,
   "metadata": {},
   "outputs": [
    {
     "data": {
      "text/plain": [
       "[<matplotlib.lines.Line2D at 0x7efbaa0ba588>]"
      ]
     },
     "execution_count": 27,
     "metadata": {},
     "output_type": "execute_result"
    },
    {
     "data": {
      "image/png": "[encoded data removed]",
      "text/plain": [
       "<Figure size 432x288 with 1 Axes>"
      ]
     },
     "metadata": {
      "needs_background": "light"
     },
     "output_type": "display_data"
    }
   ],
   "source": [
    "ar = generate_data(16)\n",
    "en = []\n",
    "mcs = []\n",
    "mag = []\n",
    "for i in range(1000):\n",
    "    mag.append(sum(sum(ar)))\n",
    "    energ, ar = step(ar, 16, 0.2)\n",
    "    en.append(energ)\n",
    "    mcs.append(i)\n",
    "plt.plot(mcs, mag)"
   ]
  },
  {
   "cell_type": "code",
   "execution_count": 29,
   "metadata": {},
   "outputs": [
    {
     "data": {
      "text/plain": [
       "array([[-1, -1, -1, -1, -1, -1, -1, -1, -1, -1, -1, -1, -1, -1, -1, -1,\n",
       "        -1, -1, -1, -1, -1, -1, -1, -1, -1, -1, -1, -1, -1, -1, -1, -1,\n",
       "        -1, -1, -1, -1, -1, -1, -1, -1, -1, -1, -1, -1, -1, -1, -1, -1,\n",
       "        -1, -1, -1, -1, -1, -1, -1, -1, -1, -1, -1, -1, -1, -1, -1, -1,\n",
       "        -1, -1, -1, -1, -1, -1, -1, -1, -1, -1, -1, -1, -1, -1, -1, -1,\n",
       "        -1, -1, -1, -1, -1, -1, -1, -1, -1, -1, -1, -1, -1, -1, -1, -1,\n",
       "        -1, -1, -1, -1, -1, -1, -1, -1, -1, -1, -1, -1, -1, -1, -1, -1,\n",
       "        -1, -1, -1, -1, -1, -1, -1, -1, -1, -1, -1, -1, -1, -1, -1, -1,\n",
       "        -1, -1, -1, -1, -1, -1, -1, -1, -1, -1, -1, -1, -1, -1, -1, -1,\n",
       "        -1, -1, -1, -1, -1, -1, -1, -1, -1, -1, -1, -1, -1, -1, -1, -1,\n",
       "        -1, -1, -1, -1, -1, -1, -1, -1, -1, -1, -1, -1, -1, -1, -1, -1,\n",
       "        -1, -1, -1, -1, -1, -1, -1, -1, -1, -1, -1, -1, -1, -1, -1, -1,\n",
       "        -1, -1, -1, -1, -1, -1, -1, -1, -1, -1, -1, -1, -1, -1, -1, -1,\n",
       "        -1, -1, -1, -1, -1, -1, -1, -1, -1, -1, -1, -1, -1, -1, -1, -1,\n",
       "        -1, -1, -1, -1, -1, -1, -1, -1, -1, -1, -1, -1, -1, -1, -1, -1,\n",
       "        -1, -1, -1, -1, -1, -1, -1, -1, -1, -1, -1, -1, -1, -1, -1, -1]])"
      ]
     },
     "execution_count": 29,
     "metadata": {},
     "output_type": "execute_result"
    }
   ],
   "source": [
    "ar.reshape((1,16*16))"
   ]
  },
  {
   "cell_type": "code",
   "execution_count": 35,
   "metadata": {},
   "outputs": [],
   "source": [
    "N = 16\n",
    "temperatures = np.linspace(4.0, 0.2, 20)\n",
    "mcs = [i for i in range(1, 30001)]\n",
    "mag = []\n",
    "data = generate_data(N)\n",
    "for temp in temperatures:\n",
    "    energies = np.zeros(1000*N*N).reshape((1000,N*N)).astype(int)\n",
    "    j = 0\n",
    "    m = 0\n",
    "    for i in mcs:\n",
    "        en, data = step(data, N, temp)\n",
    "        if(i >= N*N and i % 20 == 0 and j < 1000):            \n",
    "            energies[j] = data.reshape(1,256).astype(int)\n",
    "            j += 1\n",
    "        m = m + sum(sum(data))/(N*N)\n",
    "    mag.append(m/len(mcs))\n",
    "    for i in range(energies.shape[0]):\n",
    "        for j in range(energies.shape[1]):\n",
    "            if energies[i][j] == -1:\n",
    "                energies[i][j] == 0\n",
    "    #print(energies)\n",
    "    np.savetxt(f'conf{round(temp,1)}.txt', energies.astype(int), delimiter=',')\n"
   ]
  },
  {
   "cell_type": "code",
   "execution_count": 31,
   "metadata": {},
   "outputs": [
    {
     "name": "stdout",
     "output_type": "stream",
     "text": [
      "(1000, 256)\n"
     ]
    },
    {
     "data": {
      "text/plain": [
       "[<matplotlib.lines.Line2D at 0x7efbaa0105c0>]"
      ]
     },
     "execution_count": 31,
     "metadata": {},
     "output_type": "execute_result"
    },
    {
     "data": {
      "image/png": "[encoded data removed]",
      "text/plain": [
       "<Figure size 432x288 with 1 Axes>"
      ]
     },
     "metadata": {
      "needs_background": "light"
     },
     "output_type": "display_data"
    }
   ],
   "source": [
    "print(energies.shape)\n",
    "plt.plot( temperatures, np.abs(mag))"
   ]
  },
  {
   "cell_type": "code",
   "execution_count": 108,
   "metadata": {},
   "outputs": [],
   "source": [
    "np.zeros(1000*N*N).reshape((1000,N*N)).astype(int)\n",
    "mag2 = np.abs(mag)"
   ]
  },
  {
   "cell_type": "code",
   "execution_count": 114,
   "metadata": {},
   "outputs": [
    {
     "data": {
      "text/plain": [
       "[False,\n",
       " False,\n",
       " False,\n",
       " False,\n",
       " False,\n",
       " False,\n",
       " False,\n",
       " False,\n",
       " False,\n",
       " False,\n",
       " False,\n",
       " True,\n",
       " True,\n",
       " True,\n",
       " True,\n",
       " True,\n",
       " True,\n",
       " True,\n",
       " True,\n",
       " True]"
      ]
     },
     "execution_count": 114,
     "metadata": {},
     "output_type": "execute_result"
    }
   ],
   "source": [
    "np.all([x < 0.1 for x in mag2])\n",
    "[x < 0.1 for x in mag2]"
   ]
  }
 ],
 "metadata": {
  "kernelspec": {
   "display_name": "Python 3",
   "language": "python",
   "name": "python3"
  },
  "language_info": {
   "codemirror_mode": {
    "name": "ipython",
    "version": 3
   },
   "file_extension": ".py",
   "mimetype": "text/x-python",
   "name": "python",
   "nbconvert_exporter": "python",
   "pygments_lexer": "ipython3",
   "version": "3.6.8"
  }
 },
 "nbformat": 4,
 "nbformat_minor": 4
}
