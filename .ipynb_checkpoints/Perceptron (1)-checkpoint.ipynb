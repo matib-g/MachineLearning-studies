{
 "cells": [
  {
   "cell_type": "code",
   "execution_count": 119,
   "metadata": {},
   "outputs": [],
   "source": [
    "import numpy as np\n",
    "import matplotlib.pyplot as plt\n",
    "import pandas as pd\n",
    "import random as rnd"
   ]
  },
  {
   "cell_type": "markdown",
   "metadata": {},
   "source": [
    "1"
   ]
  },
  {
   "cell_type": "code",
   "execution_count": 115,
   "metadata": {},
   "outputs": [
    {
     "data": {
      "text/plain": [
       "<matplotlib.collections.PolyCollection at 0x7efba2a73ba8>"
      ]
     },
     "execution_count": 115,
     "metadata": {},
     "output_type": "execute_result"
    },
    {
     "data": {
      "image/png": "[encoded data removed]",
      "text/plain": [
       "<Figure size 432x288 with 1 Axes>"
      ]
     },
     "metadata": {
      "needs_background": "light"
     },
     "output_type": "display_data"
    }
   ],
   "source": [
    "x = np.linspace(-5,5,100)\n",
    "y = -2 - x\n",
    "plt.plot(x,y, color = 'black', linestyle='--', linewidth = 3 )\n",
    "plt.scatter([0, 2, 1],[1, 0, 1])\n",
    "plt.fill_between(x,y, y[0], color='red', alpha = 0.5)"
   ]
  },
  {
   "cell_type": "markdown",
   "metadata": {},
   "source": [
    "2"
   ]
  },
  {
   "cell_type": "markdown",
   "metadata": {},
   "source": [
    "$$x_2 = (-\\frac{w_1}{w_2})x_1+(-\\frac{w_0}{w_2}) = ax_1+b$$\n",
    "$$a=-\\frac{w_1}{w_2}$$\n",
    "$$b=-\\frac{w_0}{w_2}$$\n"
   ]
  },
  {
   "cell_type": "code",
   "execution_count": 45,
   "metadata": {},
   "outputs": [
    {
     "data": {
      "text/plain": [
       "[<matplotlib.lines.Line2D at 0x7efba99459b0>]"
      ]
     },
     "execution_count": 45,
     "metadata": {},
     "output_type": "execute_result"
    },
    {
     "data": {
      "image/png": "[encoded data removed]",
      "text/plain": [
       "<Figure size 432x288 with 1 Axes>"
      ]
     },
     "metadata": {
      "needs_background": "light"
     },
     "output_type": "display_data"
    }
   ],
   "source": [
    "x = np.linspace(-0.5,2.5,100)\n",
    "x_1 = [0, 2, 1]\n",
    "x_2 = [1, 0, 1]\n",
    "inf = ['A', 'B', 'C']\n",
    "fig, ax = plt.subplots()\n",
    "ax.scatter([0, 2, 1],[1, 0, 1])\n",
    "for i, txt in enumerate(inf):\n",
    "    ax.annotate(txt, (x_1[i]+0.03, x_2[i]+0.01))\n",
    "ax.plot(x, -1/2*x+1.3)"
   ]
  },
  {
   "cell_type": "markdown",
   "metadata": {},
   "source": [
    "$$1 = a*0+b -> 1 = b -> 1 = -\\frac{w_0}{w_2} -> w_2 = -w_0$$ \n",
    "$$0 = 2*a+b -> 2a = -b -> a = -\\frac{1}{2}$$\n",
    "$$-2*\\frac{w_1}{w_2}+1 =0 -> w_2 = 2*w_1 -> w_1 = \\frac{1}{2}w_2 -> w_1 = -\\frac{1}{2}w_2$$\n",
    "$$1 = 1*a+b -> $$"
   ]
  },
  {
   "cell_type": "code",
   "execution_count": 46,
   "metadata": {},
   "outputs": [],
   "source": [
    "def perc(x1, x2):\n",
    "    return 1 if x2 > -1/2*x1+1.3 else -1"
   ]
  },
  {
   "cell_type": "markdown",
   "metadata": {},
   "source": [
    "3"
   ]
  },
  {
   "cell_type": "code",
   "execution_count": 49,
   "metadata": {},
   "outputs": [],
   "source": [
    "def perc_nand(x1, x2):\n",
    "    return 1 if -2 * x2 -2 * x1 + 3 > 0 else 0"
   ]
  },
  {
   "cell_type": "code",
   "execution_count": 54,
   "metadata": {},
   "outputs": [],
   "source": [
    "def perc_not(x1):\n",
    "    return perc_nand(x1,x1)"
   ]
  },
  {
   "cell_type": "code",
   "execution_count": 55,
   "metadata": {},
   "outputs": [],
   "source": [
    "def perc_and(x1, x2):\n",
    "    return perc_not(perc_nand(x1, x2))"
   ]
  },
  {
   "cell_type": "code",
   "execution_count": 59,
   "metadata": {},
   "outputs": [],
   "source": [
    "def perc_or(x1, x2):\n",
    "    return perc_nand(perc_not(x1), perc_not(x2))"
   ]
  },
  {
   "cell_type": "code",
   "execution_count": 60,
   "metadata": {},
   "outputs": [],
   "source": [
    "def perc_nor(x1, x2):\n",
    "    return perc_not(perc_nand(perc_not(x1), perc_not(x2)))"
   ]
  },
  {
   "cell_type": "code",
   "execution_count": 70,
   "metadata": {},
   "outputs": [],
   "source": [
    "def perc_xor(x1, x2):\n",
    "    x3 = perc_nand(x1, x2)\n",
    "    return perc_nand(perc_nand(x1, x3), perc_nand(x2, x3))"
   ]
  },
  {
   "cell_type": "code",
   "execution_count": 100,
   "metadata": {},
   "outputs": [],
   "source": [
    "x = [0, 1]\n",
    "df = pd.DataFrame({'x1' : [0, 0, 1, 1], 'x2' : [0, 1, 0, 1]})\n",
    "nand = [perc_nand(x1, x2) for x1 in x for x2 in x]\n",
    "df['NAND'] = nand\n",
    "not_l = [perc_not(x1) for x1 in x for x2 in x]\n",
    "df['N0T(x1)'] = not_l\n",
    "and_l = [perc_and(x1, x2) for x1 in x for x2 in x]\n",
    "df['AND'] = and_l\n",
    "or_l = [perc_or(x1, x2) for x1 in x for x2 in x]\n",
    "df['OR'] = or_l\n",
    "nor = [perc_nor(x1, x2) for x1 in x for x2 in x]\n",
    "df['NOR'] = nor\n",
    "xor = [perc_xor(x1, x2) for x1 in x for x2 in x]\n",
    "df['XOR'] = xor"
   ]
  },
  {
   "cell_type": "code",
   "execution_count": 101,
   "metadata": {},
   "outputs": [
    {
     "data": {
      "text/html": [
       "<div>\n",
       "<style scoped>\n",
       "    .dataframe tbody tr th:only-of-type {\n",
       "        vertical-align: middle;\n",
       "    }\n",
       "\n",
       "    .dataframe tbody tr th {\n",
       "        vertical-align: top;\n",
       "    }\n",
       "\n",
       "    .dataframe thead th {\n",
       "        text-align: right;\n",
       "    }\n",
       "</style>\n",
       "<table border=\"1\" class=\"dataframe\">\n",
       "  <thead>\n",
       "    <tr style=\"text-align: right;\">\n",
       "      <th></th>\n",
       "      <th>x1</th>\n",
       "      <th>x2</th>\n",
       "      <th>NAND</th>\n",
       "      <th>N0T(x1)</th>\n",
       "      <th>AND</th>\n",
       "      <th>OR</th>\n",
       "      <th>NOR</th>\n",
       "      <th>XOR</th>\n",
       "    </tr>\n",
       "  </thead>\n",
       "  <tbody>\n",
       "    <tr>\n",
       "      <th>0</th>\n",
       "      <td>0</td>\n",
       "      <td>0</td>\n",
       "      <td>1</td>\n",
       "      <td>1</td>\n",
       "      <td>0</td>\n",
       "      <td>0</td>\n",
       "      <td>1</td>\n",
       "      <td>0</td>\n",
       "    </tr>\n",
       "    <tr>\n",
       "      <th>1</th>\n",
       "      <td>0</td>\n",
       "      <td>1</td>\n",
       "      <td>1</td>\n",
       "      <td>1</td>\n",
       "      <td>0</td>\n",
       "      <td>1</td>\n",
       "      <td>0</td>\n",
       "      <td>1</td>\n",
       "    </tr>\n",
       "    <tr>\n",
       "      <th>2</th>\n",
       "      <td>1</td>\n",
       "      <td>0</td>\n",
       "      <td>1</td>\n",
       "      <td>0</td>\n",
       "      <td>0</td>\n",
       "      <td>1</td>\n",
       "      <td>0</td>\n",
       "      <td>1</td>\n",
       "    </tr>\n",
       "    <tr>\n",
       "      <th>3</th>\n",
       "      <td>1</td>\n",
       "      <td>1</td>\n",
       "      <td>0</td>\n",
       "      <td>0</td>\n",
       "      <td>1</td>\n",
       "      <td>1</td>\n",
       "      <td>0</td>\n",
       "      <td>0</td>\n",
       "    </tr>\n",
       "  </tbody>\n",
       "</table>\n",
       "</div>"
      ],
      "text/plain": [
       "   x1  x2  NAND  N0T(x1)  AND  OR  NOR  XOR\n",
       "0   0   0     1        1    0   0    1    0\n",
       "1   0   1     1        1    0   1    0    1\n",
       "2   1   0     1        0    0   1    0    1\n",
       "3   1   1     0        0    1   1    0    0"
      ]
     },
     "execution_count": 101,
     "metadata": {},
     "output_type": "execute_result"
    }
   ],
   "source": [
    "df"
   ]
  },
  {
   "cell_type": "markdown",
   "metadata": {},
   "source": [
    "4"
   ]
  },
  {
   "cell_type": "code",
   "execution_count": 102,
   "metadata": {},
   "outputs": [],
   "source": [
    "def perc_mor(m):\n",
    "    return 1 if sum(m) > 0 else 0"
   ]
  },
  {
   "cell_type": "code",
   "execution_count": 108,
   "metadata": {},
   "outputs": [],
   "source": [
    "def perc_mand(m):\n",
    "    return 1 if sum(m) == len(m) else 0"
   ]
  },
  {
   "cell_type": "code",
   "execution_count": 112,
   "metadata": {},
   "outputs": [
    {
     "data": {
      "text/plain": [
       "0"
      ]
     },
     "execution_count": 112,
     "metadata": {},
     "output_type": "execute_result"
    }
   ],
   "source": [
    "perc_mand([1,1,1,1,1,1,0])"
   ]
  },
  {
   "cell_type": "code",
   "execution_count": 128,
   "metadata": {},
   "outputs": [],
   "source": [
    "x = np.linspace(-10, 10, 100)\n",
    "y = np.linspace(-10, 10, 100)\n",
    "a = 3\n",
    "b = -2\n",
    "bias = 5\n",
    "z = np.array([a*x1 + b*x2 + bias + np.random.normal(0,1) for x1,x2 in zip(x,y)])"
   ]
  },
  {
   "cell_type": "code",
   "execution_count": 138,
   "metadata": {},
   "outputs": [
    {
     "data": {
      "text/plain": [
       "[<matplotlib.lines.Line2D at 0x7efba2738710>]"
      ]
     },
     "execution_count": 138,
     "metadata": {},
     "output_type": "execute_result"
    },
    {
     "data": {
      "image/png": "[encoded data removed]",
      "text/plain": [
       "<Figure size 432x288 with 1 Axes>"
      ]
     },
     "metadata": {
      "needs_background": "light"
     },
     "output_type": "display_data"
    }
   ],
   "source": [
    "perc = [a*x1 + b*x2 + bias for x1,x2 in zip(x,y)]\n",
    "plt.scatter(x, z)\n",
    "plt.plot(x, perc, color='black', linewidth = 3)"
   ]
  },
  {
   "cell_type": "code",
   "execution_count": 139,
   "metadata": {},
   "outputs": [],
   "source": [
    "def delta:\n",
    "    return -2/(len(perc))*sum(y1-y2 for y1,y2 in (zip(perc, z)))"
   ]
  },
  {
   "cell_type": "code",
   "execution_count": null,
   "metadata": {},
   "outputs": [],
   "source": [
    "w = [1, 1, 1]\n",
    "for wk in w:\n",
    "    -2/(len(perc))*sum(y1-y2* for y1, y2 in zip(perc,z))"
   ]
  }
 ],
 "metadata": {
  "kernelspec": {
   "display_name": "Python 3",
   "language": "python",
   "name": "python3"
  },
  "language_info": {
   "codemirror_mode": {
    "name": "ipython",
    "version": 3
   },
   "file_extension": ".py",
   "mimetype": "text/x-python",
   "name": "python",
   "nbconvert_exporter": "python",
   "pygments_lexer": "ipython3",
   "version": "3.8.5"
  }
 },
 "nbformat": 4,
 "nbformat_minor": 4
}
